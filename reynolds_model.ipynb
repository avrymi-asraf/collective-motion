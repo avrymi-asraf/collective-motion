{
 "cells": [
  {
   "cell_type": "code",
   "execution_count": 1,
   "metadata": {},
   "outputs": [
    {
     "name": "stderr",
     "output_type": "stream",
     "text": [
      "c:\\Users\\avrey\\anaconda3\\envs\\iml.env\\lib\\site-packages\\tqdm\\auto.py:21: TqdmWarning: IProgress not found. Please update jupyter and ipywidgets. See https://ipywidgets.readthedocs.io/en/stable/user_install.html\n",
      "  from .autonotebook import tqdm as notebook_tqdm\n"
     ]
    }
   ],
   "source": [
    "import torch \n",
    "import numpy as np\n",
    "import plotly.graph_objects as go\n",
    "import plotly.express as px\n",
    "import plotly.figure_factory as ff\n",
    "import pandas as pd\n",
    "import timeit\n",
    "import numpy as np\n"
   ]
  },
  {
   "cell_type": "code",
   "execution_count": 2,
   "metadata": {},
   "outputs": [],
   "source": [
    "import numpy as np\n",
    "\n",
    "\n",
    "def spherical_to_cartesian(r, theta, phi,normalize=True):\n",
    "    out = np.array(\n",
    "        [\n",
    "            r * np.sin(np.deg2rad(theta)) * np.cos(np.deg2rad(phi)),\n",
    "            r * np.sin(np.deg2rad(theta)) * np.sin(np.deg2rad(phi)),\n",
    "            r * np.cos(np.deg2rad(theta)),\n",
    "        ]\n",
    "    )\n",
    "    if normalize:\n",
    "        return out / np.linalg.norm(out)\n",
    "    return out\n",
    "def cartesian_to_spherical(x, y, z):\n",
    "    r = np.linalg.norm([x, y, z])\n",
    "    theta = np.rad2deg(np.arccos(z / r))\n",
    "    phi = np.rad2deg(np.arctan2(y, x))\n",
    "    return r, theta, phi"
   ]
  },
  {
   "cell_type": "code",
   "execution_count": 26,
   "metadata": {},
   "outputs": [],
   "source": [
    "def cone_by_spherical(\n",
    "    x: float, y: float, z: float, theta: int, phi: int, r: float = 1\n",
    ") -> go.Cone:\n",
    "    u, v, w = spherical_to_cartesian(r, theta, phi,normalize=False)\n",
    "    return go.Cone(x=[x], y=[y], z=[z], u=[u], v=[v], w=[w],anchor=\"tail\",sizemode=\"absolute\")"
   ]
  },
  {
   "cell_type": "code",
   "execution_count": 29,
   "metadata": {},
   "outputs": [
    {
     "data": {
      "application/vnd.plotly.v1+json": {
       "config": {
        "plotlyServerURL": "https://plot.ly"
       },
       "data": [
        {
         "anchor": "tail",
         "sizemode": "absolute",
         "type": "cone",
         "u": [
          -2.2496396739927864e-32
         ],
         "v": [
          -1.2246467991473532e-16
         ],
         "w": [
          -1
         ],
         "x": [
          0
         ],
         "y": [
          0
         ],
         "z": [
          0
         ]
        }
       ],
       "layout": {
        "scene": {
         "aspectratio": {
          "x": 1,
          "y": 1,
          "z": 0.8
         },
         "camera": {
          "eye": {
           "x": 1.2,
           "y": 1.2,
           "z": 0.6
          }
         },
         "xaxis": {
          "nticks": 4,
          "range": [
           -2,
           2
          ]
         },
         "yaxis": {
          "nticks": 4,
          "range": [
           -2,
           2
          ]
         },
         "zaxis": {
          "nticks": 4,
          "range": [
           -2,
           2
          ]
         }
        },
        "template": {
         "data": {
          "bar": [
           {
            "error_x": {
             "color": "#2a3f5f"
            },
            "error_y": {
             "color": "#2a3f5f"
            },
            "marker": {
             "line": {
              "color": "#E5ECF6",
              "width": 0.5
             },
             "pattern": {
              "fillmode": "overlay",
              "size": 10,
              "solidity": 0.2
             }
            },
            "type": "bar"
           }
          ],
          "barpolar": [
           {
            "marker": {
             "line": {
              "color": "#E5ECF6",
              "width": 0.5
             },
             "pattern": {
              "fillmode": "overlay",
              "size": 10,
              "solidity": 0.2
             }
            },
            "type": "barpolar"
           }
          ],
          "carpet": [
           {
            "aaxis": {
             "endlinecolor": "#2a3f5f",
             "gridcolor": "white",
             "linecolor": "white",
             "minorgridcolor": "white",
             "startlinecolor": "#2a3f5f"
            },
            "baxis": {
             "endlinecolor": "#2a3f5f",
             "gridcolor": "white",
             "linecolor": "white",
             "minorgridcolor": "white",
             "startlinecolor": "#2a3f5f"
            },
            "type": "carpet"
           }
          ],
          "choropleth": [
           {
            "colorbar": {
             "outlinewidth": 0,
             "ticks": ""
            },
            "type": "choropleth"
           }
          ],
          "contour": [
           {
            "colorbar": {
             "outlinewidth": 0,
             "ticks": ""
            },
            "colorscale": [
             [
              0,
              "#0d0887"
             ],
             [
              0.1111111111111111,
              "#46039f"
             ],
             [
              0.2222222222222222,
              "#7201a8"
             ],
             [
              0.3333333333333333,
              "#9c179e"
             ],
             [
              0.4444444444444444,
              "#bd3786"
             ],
             [
              0.5555555555555556,
              "#d8576b"
             ],
             [
              0.6666666666666666,
              "#ed7953"
             ],
             [
              0.7777777777777778,
              "#fb9f3a"
             ],
             [
              0.8888888888888888,
              "#fdca26"
             ],
             [
              1,
              "#f0f921"
             ]
            ],
            "type": "contour"
           }
          ],
          "contourcarpet": [
           {
            "colorbar": {
             "outlinewidth": 0,
             "ticks": ""
            },
            "type": "contourcarpet"
           }
          ],
          "heatmap": [
           {
            "colorbar": {
             "outlinewidth": 0,
             "ticks": ""
            },
            "colorscale": [
             [
              0,
              "#0d0887"
             ],
             [
              0.1111111111111111,
              "#46039f"
             ],
             [
              0.2222222222222222,
              "#7201a8"
             ],
             [
              0.3333333333333333,
              "#9c179e"
             ],
             [
              0.4444444444444444,
              "#bd3786"
             ],
             [
              0.5555555555555556,
              "#d8576b"
             ],
             [
              0.6666666666666666,
              "#ed7953"
             ],
             [
              0.7777777777777778,
              "#fb9f3a"
             ],
             [
              0.8888888888888888,
              "#fdca26"
             ],
             [
              1,
              "#f0f921"
             ]
            ],
            "type": "heatmap"
           }
          ],
          "heatmapgl": [
           {
            "colorbar": {
             "outlinewidth": 0,
             "ticks": ""
            },
            "colorscale": [
             [
              0,
              "#0d0887"
             ],
             [
              0.1111111111111111,
              "#46039f"
             ],
             [
              0.2222222222222222,
              "#7201a8"
             ],
             [
              0.3333333333333333,
              "#9c179e"
             ],
             [
              0.4444444444444444,
              "#bd3786"
             ],
             [
              0.5555555555555556,
              "#d8576b"
             ],
             [
              0.6666666666666666,
              "#ed7953"
             ],
             [
              0.7777777777777778,
              "#fb9f3a"
             ],
             [
              0.8888888888888888,
              "#fdca26"
             ],
             [
              1,
              "#f0f921"
             ]
            ],
            "type": "heatmapgl"
           }
          ],
          "histogram": [
           {
            "marker": {
             "pattern": {
              "fillmode": "overlay",
              "size": 10,
              "solidity": 0.2
             }
            },
            "type": "histogram"
           }
          ],
          "histogram2d": [
           {
            "colorbar": {
             "outlinewidth": 0,
             "ticks": ""
            },
            "colorscale": [
             [
              0,
              "#0d0887"
             ],
             [
              0.1111111111111111,
              "#46039f"
             ],
             [
              0.2222222222222222,
              "#7201a8"
             ],
             [
              0.3333333333333333,
              "#9c179e"
             ],
             [
              0.4444444444444444,
              "#bd3786"
             ],
             [
              0.5555555555555556,
              "#d8576b"
             ],
             [
              0.6666666666666666,
              "#ed7953"
             ],
             [
              0.7777777777777778,
              "#fb9f3a"
             ],
             [
              0.8888888888888888,
              "#fdca26"
             ],
             [
              1,
              "#f0f921"
             ]
            ],
            "type": "histogram2d"
           }
          ],
          "histogram2dcontour": [
           {
            "colorbar": {
             "outlinewidth": 0,
             "ticks": ""
            },
            "colorscale": [
             [
              0,
              "#0d0887"
             ],
             [
              0.1111111111111111,
              "#46039f"
             ],
             [
              0.2222222222222222,
              "#7201a8"
             ],
             [
              0.3333333333333333,
              "#9c179e"
             ],
             [
              0.4444444444444444,
              "#bd3786"
             ],
             [
              0.5555555555555556,
              "#d8576b"
             ],
             [
              0.6666666666666666,
              "#ed7953"
             ],
             [
              0.7777777777777778,
              "#fb9f3a"
             ],
             [
              0.8888888888888888,
              "#fdca26"
             ],
             [
              1,
              "#f0f921"
             ]
            ],
            "type": "histogram2dcontour"
           }
          ],
          "mesh3d": [
           {
            "colorbar": {
             "outlinewidth": 0,
             "ticks": ""
            },
            "type": "mesh3d"
           }
          ],
          "parcoords": [
           {
            "line": {
             "colorbar": {
              "outlinewidth": 0,
              "ticks": ""
             }
            },
            "type": "parcoords"
           }
          ],
          "pie": [
           {
            "automargin": true,
            "type": "pie"
           }
          ],
          "scatter": [
           {
            "fillpattern": {
             "fillmode": "overlay",
             "size": 10,
             "solidity": 0.2
            },
            "type": "scatter"
           }
          ],
          "scatter3d": [
           {
            "line": {
             "colorbar": {
              "outlinewidth": 0,
              "ticks": ""
             }
            },
            "marker": {
             "colorbar": {
              "outlinewidth": 0,
              "ticks": ""
             }
            },
            "type": "scatter3d"
           }
          ],
          "scattercarpet": [
           {
            "marker": {
             "colorbar": {
              "outlinewidth": 0,
              "ticks": ""
             }
            },
            "type": "scattercarpet"
           }
          ],
          "scattergeo": [
           {
            "marker": {
             "colorbar": {
              "outlinewidth": 0,
              "ticks": ""
             }
            },
            "type": "scattergeo"
           }
          ],
          "scattergl": [
           {
            "marker": {
             "colorbar": {
              "outlinewidth": 0,
              "ticks": ""
             }
            },
            "type": "scattergl"
           }
          ],
          "scattermapbox": [
           {
            "marker": {
             "colorbar": {
              "outlinewidth": 0,
              "ticks": ""
             }
            },
            "type": "scattermapbox"
           }
          ],
          "scatterpolar": [
           {
            "marker": {
             "colorbar": {
              "outlinewidth": 0,
              "ticks": ""
             }
            },
            "type": "scatterpolar"
           }
          ],
          "scatterpolargl": [
           {
            "marker": {
             "colorbar": {
              "outlinewidth": 0,
              "ticks": ""
             }
            },
            "type": "scatterpolargl"
           }
          ],
          "scatterternary": [
           {
            "marker": {
             "colorbar": {
              "outlinewidth": 0,
              "ticks": ""
             }
            },
            "type": "scatterternary"
           }
          ],
          "surface": [
           {
            "colorbar": {
             "outlinewidth": 0,
             "ticks": ""
            },
            "colorscale": [
             [
              0,
              "#0d0887"
             ],
             [
              0.1111111111111111,
              "#46039f"
             ],
             [
              0.2222222222222222,
              "#7201a8"
             ],
             [
              0.3333333333333333,
              "#9c179e"
             ],
             [
              0.4444444444444444,
              "#bd3786"
             ],
             [
              0.5555555555555556,
              "#d8576b"
             ],
             [
              0.6666666666666666,
              "#ed7953"
             ],
             [
              0.7777777777777778,
              "#fb9f3a"
             ],
             [
              0.8888888888888888,
              "#fdca26"
             ],
             [
              1,
              "#f0f921"
             ]
            ],
            "type": "surface"
           }
          ],
          "table": [
           {
            "cells": {
             "fill": {
              "color": "#EBF0F8"
             },
             "line": {
              "color": "white"
             }
            },
            "header": {
             "fill": {
              "color": "#C8D4E3"
             },
             "line": {
              "color": "white"
             }
            },
            "type": "table"
           }
          ]
         },
         "layout": {
          "annotationdefaults": {
           "arrowcolor": "#2a3f5f",
           "arrowhead": 0,
           "arrowwidth": 1
          },
          "autotypenumbers": "strict",
          "coloraxis": {
           "colorbar": {
            "outlinewidth": 0,
            "ticks": ""
           }
          },
          "colorscale": {
           "diverging": [
            [
             0,
             "#8e0152"
            ],
            [
             0.1,
             "#c51b7d"
            ],
            [
             0.2,
             "#de77ae"
            ],
            [
             0.3,
             "#f1b6da"
            ],
            [
             0.4,
             "#fde0ef"
            ],
            [
             0.5,
             "#f7f7f7"
            ],
            [
             0.6,
             "#e6f5d0"
            ],
            [
             0.7,
             "#b8e186"
            ],
            [
             0.8,
             "#7fbc41"
            ],
            [
             0.9,
             "#4d9221"
            ],
            [
             1,
             "#276419"
            ]
           ],
           "sequential": [
            [
             0,
             "#0d0887"
            ],
            [
             0.1111111111111111,
             "#46039f"
            ],
            [
             0.2222222222222222,
             "#7201a8"
            ],
            [
             0.3333333333333333,
             "#9c179e"
            ],
            [
             0.4444444444444444,
             "#bd3786"
            ],
            [
             0.5555555555555556,
             "#d8576b"
            ],
            [
             0.6666666666666666,
             "#ed7953"
            ],
            [
             0.7777777777777778,
             "#fb9f3a"
            ],
            [
             0.8888888888888888,
             "#fdca26"
            ],
            [
             1,
             "#f0f921"
            ]
           ],
           "sequentialminus": [
            [
             0,
             "#0d0887"
            ],
            [
             0.1111111111111111,
             "#46039f"
            ],
            [
             0.2222222222222222,
             "#7201a8"
            ],
            [
             0.3333333333333333,
             "#9c179e"
            ],
            [
             0.4444444444444444,
             "#bd3786"
            ],
            [
             0.5555555555555556,
             "#d8576b"
            ],
            [
             0.6666666666666666,
             "#ed7953"
            ],
            [
             0.7777777777777778,
             "#fb9f3a"
            ],
            [
             0.8888888888888888,
             "#fdca26"
            ],
            [
             1,
             "#f0f921"
            ]
           ]
          },
          "colorway": [
           "#636efa",
           "#EF553B",
           "#00cc96",
           "#ab63fa",
           "#FFA15A",
           "#19d3f3",
           "#FF6692",
           "#B6E880",
           "#FF97FF",
           "#FECB52"
          ],
          "font": {
           "color": "#2a3f5f"
          },
          "geo": {
           "bgcolor": "white",
           "lakecolor": "white",
           "landcolor": "#E5ECF6",
           "showlakes": true,
           "showland": true,
           "subunitcolor": "white"
          },
          "hoverlabel": {
           "align": "left"
          },
          "hovermode": "closest",
          "mapbox": {
           "style": "light"
          },
          "paper_bgcolor": "white",
          "plot_bgcolor": "#E5ECF6",
          "polar": {
           "angularaxis": {
            "gridcolor": "white",
            "linecolor": "white",
            "ticks": ""
           },
           "bgcolor": "#E5ECF6",
           "radialaxis": {
            "gridcolor": "white",
            "linecolor": "white",
            "ticks": ""
           }
          },
          "scene": {
           "xaxis": {
            "backgroundcolor": "#E5ECF6",
            "gridcolor": "white",
            "gridwidth": 2,
            "linecolor": "white",
            "showbackground": true,
            "ticks": "",
            "zerolinecolor": "white"
           },
           "yaxis": {
            "backgroundcolor": "#E5ECF6",
            "gridcolor": "white",
            "gridwidth": 2,
            "linecolor": "white",
            "showbackground": true,
            "ticks": "",
            "zerolinecolor": "white"
           },
           "zaxis": {
            "backgroundcolor": "#E5ECF6",
            "gridcolor": "white",
            "gridwidth": 2,
            "linecolor": "white",
            "showbackground": true,
            "ticks": "",
            "zerolinecolor": "white"
           }
          },
          "shapedefaults": {
           "line": {
            "color": "#2a3f5f"
           }
          },
          "ternary": {
           "aaxis": {
            "gridcolor": "white",
            "linecolor": "white",
            "ticks": ""
           },
           "baxis": {
            "gridcolor": "white",
            "linecolor": "white",
            "ticks": ""
           },
           "bgcolor": "#E5ECF6",
           "caxis": {
            "gridcolor": "white",
            "linecolor": "white",
            "ticks": ""
           }
          },
          "title": {
           "x": 0.05
          },
          "xaxis": {
           "automargin": true,
           "gridcolor": "white",
           "linecolor": "white",
           "ticks": "",
           "title": {
            "standoff": 15
           },
           "zerolinecolor": "white",
           "zerolinewidth": 2
          },
          "yaxis": {
           "automargin": true,
           "gridcolor": "white",
           "linecolor": "white",
           "ticks": "",
           "title": {
            "standoff": 15
           },
           "zerolinecolor": "white",
           "zerolinewidth": 2
          }
         }
        }
       }
      }
     },
     "metadata": {},
     "output_type": "display_data"
    }
   ],
   "source": [
    "go.Figure(data=cone_by_spherical(0, 0, 0, 180, 270)).update_layout(\n",
    "        scene=dict(\n",
    "            aspectratio=dict(x=1, y=1, z=0.8),\n",
    "            camera_eye=dict(x=1.2, y=1.2, z=0.6),\n",
    "            xaxis=dict(\n",
    "                nticks=4,\n",
    "                range=[-2, 2],\n",
    "            ),\n",
    "            yaxis=dict(\n",
    "                nticks=4,\n",
    "                range=[-2, 2],\n",
    "            ),\n",
    "            zaxis=dict(\n",
    "                nticks=4,\n",
    "                range=[-2, 2],\n",
    "            ),\n",
    "        )).show()"
   ]
  },
  {
   "cell_type": "code",
   "execution_count": null,
   "metadata": {},
   "outputs": [],
   "source": [
    "import random\n",
    "import plotly.graph_objects as go\n",
    "\n",
    "# Define the parameters of the simulation\n",
    "num_birds = 50\n",
    "max_speed = 5\n",
    "max_force = 0.1\n",
    "neighborhood_radius = 50\n",
    "alignment_weight = 1\n",
    "cohesion_weight = 1\n",
    "separation_weight = 1\n",
    "\n",
    "# Define the initial positions and velocities of the birds\n",
    "positions = [(random.uniform(-100, 100), random.uniform(-100, 100)) for _ in range(num_birds)]\n",
    "velocities = [(random.uniform(-1, 1), random.uniform(-1, 1)) for _ in range(num_birds)]\n",
    "\n",
    "# Define the update function for the birds\n",
    "def update_birds(positions, velocities):\n",
    "    new_positions = []\n",
    "    new_velocities = []\n",
    "    for i, (x, y) in enumerate(positions):\n",
    "        # Compute the alignment, cohesion, and separation vectors\n",
    "        alignment = (0, 0)\n",
    "        cohesion = (0, 0)\n",
    "        separation = (0, 0)\n",
    "        num_neighbors = 0\n",
    "        for j, (x2, y2) in enumerate(positions):\n",
    "            if i != j and (x2 - x) ** 2 + (y2 - y) ** 2 < neighborhood_radius ** 2:\n",
    "                alignment = (alignment[0] + velocities[j][0], alignment[1] + velocities[j][1])\n",
    "                cohesion = (cohesion[0] + x2, cohesion[1] + y2)\n",
    "                separation = (separation[0] + (x - x2), separation[1] + (y - y2))\n",
    "                num_neighbors += 1\n",
    "        if num_neighbors > 0:\n",
    "            alignment = (alignment[0] / num_neighbors, alignment[1] / num_neighbors)\n",
    "            alignment_mag = (alignment[0] ** 2 + alignment[1] ** 2) ** 0.5\n",
    "            if alignment_mag > 0:\n",
    "                alignment = (alignment[0] / alignment_mag * max_speed, alignment[1] / alignment_mag * max_speed)\n",
    "            cohesion = (cohesion[0] / num_neighbors, cohesion[1] / num_neighbors)\n",
    "            cohesion = ((cohesion[0] - x) / 100 * max_speed, (cohesion[1] - y) / 100 * max_speed)\n",
    "            separation_mag = (separation[0] ** 2 + separation[1] ** 2) ** 0.5\n",
    "            if separation_mag > 0:\n",
    "                separation = (separation[0] / separation_mag * max_speed, separation[1] / separation_mag * max_speed)\n",
    "        # Compute the new velocity and position of the bird\n",
    "        velocity = (velocities[i][0] + alignment[0] * alignment_weight + cohesion[0] * cohesion_weight + separation[0] * separation_weight, velocities[i][1] + alignment[1] * alignment_weight + cohesion[1] * cohesion_weight + separation[1] * separation_weight)\n",
    "        velocity_mag = (velocity[0] ** 2 + velocity[1] ** 2) ** 0.5\n",
    "        if velocity_mag > max_speed:\n",
    "            velocity = (velocity[0] / velocity_mag * max_speed, velocity[1] / velocity_mag * max_speed)\n",
    "        position = (x + velocity[0], y + velocity[1])\n",
    "        new_positions.append(position)\n",
    "        new_velocities.append(velocity)\n",
    "    return new_positions, new_velocities\n",
    "\n",
    "# Create the plot\n",
    "fig = go.Figure()\n",
    "\n",
    "# Add the initial positions of the birds to the plot\n",
    "fig.add_trace(go.Scatter(x=[x for x, y in positions], y=[y for x, y in positions], mode='markers'))\n",
    "\n",
    "# Run the simulation and update the plot\n",
    "for i in range(100):\n",
    "    positions, velocities = update_birds(positions, velocities)\n",
    "    fig.add_trace(go.Scatter(x=[x for x, y in positions], y=[y for x, y in positions], mode='markers'))\n",
    "    \n",
    "# Show the plot\n",
    "fig.show()"
   ]
  },
  {
   "cell_type": "code",
   "execution_count": null,
   "metadata": {},
   "outputs": [],
   "source": [
    "import random\n",
    "import torch\n",
    "import matplotlib.pyplot as plt\n",
    "\n",
    "# Define the parameters of the simulation\n",
    "num_birds = 50\n",
    "max_speed = 5\n",
    "max_force = 0.1\n",
    "neighborhood_radius = 50\n",
    "alignment_weight = 1\n",
    "cohesion_weight = 1\n",
    "separation_weight = 1\n",
    "\n",
    "# Define the initial positions and velocities of the birds\n",
    "positions = torch.tensor([(torch.uniform(()-100, 100), random.uniform(-100, 100)) for _ in range(num_birds)], requires_grad=True)\n",
    "velocities = torch.tensor([(random.uniform(-1, 1), random.uniform(-1, 1)) for _ in range(num_birds)], requires_grad=True)\n",
    "\n",
    "# Define the update function for the birds\n",
    "def update_birds(positions, velocities):\n",
    "    new_positions = []\n",
    "    new_velocities = []\n",
    "    for i, (x, y) in enumerate(positions):\n",
    "        # Compute the alignment, cohesion, and separation vectors\n",
    "        alignment = torch.tensor([0., 0.])\n",
    "        cohesion = torch.tensor([0., 0.])\n",
    "        separation = torch.tensor([0., 0.])\n",
    "        num_neighbors = 0\n",
    "        for j, (x2, y2) in enumerate(positions):\n",
    "            if i != j and (x2 - x) ** 2 + (y2 - y) ** 2 < neighborhood_radius ** 2:\n",
    "                alignment += velocities[j]\n",
    "                cohesion += torch.tensor([x2, y2])\n",
    "                separation += torch.tensor([x - x2, y - y2])\n",
    "                num_neighbors += 1\n",
    "        if num_neighbors > 0:\n",
    "            alignment /= num_neighbors\n",
    "            alignment_mag = torch.norm(alignment)\n",
    "            if alignment_mag > 0:\n",
    "                alignment *= max_speed / alignment_mag\n",
    "            cohesion /= num_neighbors\n",
    "            cohesion = (cohesion - torch.tensor([x, y])) / 100 * max_speed\n",
    "            separation_mag = torch.norm(separation)\n",
    "            if separation_mag > 0:\n",
    "                separation *= max_speed / separation_mag\n",
    "        # Compute the new velocity and position of the bird\n",
    "        velocity = velocities[i] + alignment * alignment_weight + cohesion * cohesion_weight + separation * separation_weight\n",
    "        velocity_mag = torch.norm(velocity)\n",
    "        if velocity_mag > max_speed:\n",
    "            velocity *= max_speed / velocity_mag\n",
    "        position = positions[i] + velocity\n",
    "        new_positions.append(position)\n",
    "        new_velocities.append(velocity)\n",
    "    return torch.stack(new_positions), torch.stack(new_velocities)\n",
    "\n",
    "# Create the plot\n",
    "fig, ax = plt.subplots()\n",
    "\n",
    "# Add the initial positions of the birds to the plot\n",
    "ax.scatter(positions[:, 0].detach().numpy(), positions[:, 1].detach().numpy())\n",
    "\n",
    "# Run the simulation and update the plot\n",
    "for i in range(100):\n",
    "    positions, velocities = update_birds(positions, velocities)\n",
    "    ax.scatter(positions[:, 0].detach().numpy(), positions[:, 1].detach().numpy())\n",
    "    \n",
    "# Show the plot\n",
    "plt.show()"
   ]
  },
  {
   "cell_type": "code",
   "execution_count": 49,
   "metadata": {},
   "outputs": [],
   "source": [
    "df = pd.read_csv(\"https://raw.githubusercontent.com/plotly/datasets/master/vortex.csv\")"
   ]
  },
  {
   "cell_type": "code",
   "execution_count": 1,
   "metadata": {},
   "outputs": [
    {
     "ename": "SyntaxError",
     "evalue": "invalid syntax (429911876.py, line 4)",
     "output_type": "error",
     "traceback": [
      "\u001b[1;36m  File \u001b[1;32m\"C:\\Users\\avrey\\AppData\\Local\\Temp\\ipykernel_9692\\429911876.py\"\u001b[1;36m, line \u001b[1;32m4\u001b[0m\n\u001b[1;33m    df[[\"x\"]] += np.cos(df[])\u001b[0m\n\u001b[1;37m                           ^\u001b[0m\n\u001b[1;31mSyntaxError\u001b[0m\u001b[1;31m:\u001b[0m invalid syntax\n"
     ]
    }
   ],
   "source": [
    "f = lambda x: x + 1\n",
    "frames = []\n",
    "for _ in range(20):\n",
    "    theta = np.arctan(df[\"y\"] / df[\"x\"])\n",
    "    df[[\"x\"]] += np.cos(df[\"x\"])\n",
    "    frames.append(\n",
    "        go.Frame(\n",
    "            data=go.Cone(\n",
    "                x=df[\"x\"],\n",
    "                y=df[\"y\"],\n",
    "                z=df[\"z\"],\n",
    "                u=df[\"u\"],\n",
    "                v=df[\"v\"],\n",
    "                w=df[\"w\"],\n",
    "                colorscale=\"Blues\",\n",
    "                sizemode=\"absolute\",\n",
    "                sizeref=40,\n",
    "            )\n",
    "        )\n",
    "    )\n",
    "\n",
    "fig = go.Figure(\n",
    "    data=frames[0].data,\n",
    "    layout=go.Layout(\n",
    "        title=\"Start Title\",\n",
    "        updatemenus=[\n",
    "            dict(\n",
    "                type=\"buttons\",\n",
    "                buttons=[dict(label=\"Play\", method=\"animate\", args=[None])],\n",
    "            )\n",
    "        ],\n",
    "    ),\n",
    "    frames=frames,\n",
    ")\n",
    "\n",
    "fig.update_layout(\n",
    "    scene=dict(\n",
    "        aspectratio=dict(x=1, y=1, z=0.8),\n",
    "        camera_eye=dict(x=1.2, y=1.2, z=0.6),\n",
    "        xaxis=dict(\n",
    "            nticks=4,\n",
    "            range=[-20, 20],\n",
    "        ),\n",
    "        yaxis=dict(\n",
    "            nticks=4,\n",
    "            range=[-20, 20],\n",
    "        ),\n",
    "        zaxis=dict(\n",
    "            nticks=4,\n",
    "            range=[-20, 20],\n",
    "        ),\n",
    "    ),\n",
    ")\n",
    "\n",
    "fig.show()"
   ]
  },
  {
   "cell_type": "code",
   "execution_count": null,
   "metadata": {},
   "outputs": [],
   "source": []
  }
 ],
 "metadata": {
  "kernelspec": {
   "display_name": "neta-venv",
   "language": "python",
   "name": "python3"
  },
  "language_info": {
   "codemirror_mode": {
    "name": "ipython",
    "version": 3
   },
   "file_extension": ".py",
   "mimetype": "text/x-python",
   "name": "python",
   "nbconvert_exporter": "python",
   "pygments_lexer": "ipython3",
   "version": "3.7.16"
  },
  "orig_nbformat": 4
 },
 "nbformat": 4,
 "nbformat_minor": 2
}
