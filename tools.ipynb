{
 "cells": [
  {
   "cell_type": "code",
   "execution_count": 11,
   "metadata": {},
   "outputs": [],
   "source": [
    "import torch \n",
    "import numpy as np\n",
    "import plotly.graph_objects as go\n",
    "import plotly.express as px\n",
    "import plotly.figure_factory as ff\n",
    "import pandas as pd\n",
    "import timeit\n",
    "import numpy as np\n"
   ]
  },
  {
   "cell_type": "code",
   "execution_count": 12,
   "metadata": {},
   "outputs": [],
   "source": [
    "\n",
    "\n",
    "def spherical_to_cartesian(r, theta, phi, normalize=True):\n",
    "    out = np.array(\n",
    "        [\n",
    "            r * np.sin(np.deg2rad(theta)) * np.cos(np.deg2rad(phi)),\n",
    "            r * np.sin(np.deg2rad(theta)) * np.sin(np.deg2rad(phi)),\n",
    "            r * np.cos(np.deg2rad(theta)),\n",
    "        ]\n",
    "    )\n",
    "    if normalize:\n",
    "        return out / np.linalg.norm(out)\n",
    "    return out\n",
    "\n",
    "\n",
    "def cartesian_to_spherical(x, y, z):\n",
    "    r = np.linalg.norm([x, y, z])\n",
    "    theta = np.rad2deg(np.arccos(z / r))\n",
    "    phi = np.rad2deg(np.arctan2(y, x))\n",
    "    return r, theta, phi"
   ]
  },
  {
   "cell_type": "code",
   "execution_count": 21,
   "metadata": {},
   "outputs": [],
   "source": [
    "def cone_by_spherical(\n",
    "    x: float, y: float, z: float, theta: int, phi: int, r: float = 1\n",
    ") -> go.Cone:\n",
    "    u, v, w = spherical_to_cartesian(r, theta, phi, normalize=False)\n",
    "    return go.Cone(x=x, y=y, z=z, u=u, v=v, w=w, anchor=\"tail\", sizemode=\"absolute\")"
   ]
  },
  {
   "cell_type": "code",
   "execution_count": 24,
   "metadata": {},
   "outputs": [],
   "source": [
    "data = torch.rand(40,5)\n",
    "data[:,3:] = data[:,3:]*360\n",
    "data[:,:3] = data[:,:3]*4 - 2\n",
    "data_for_fig = cone_by_spherical(data[:,0],data[:,1],data[:,2],data[:,3],data[:,4])"
   ]
  },
  {
   "cell_type": "code",
   "execution_count": 25,
   "metadata": {},
   "outputs": [
    {
     "data": {
      "application/vnd.plotly.v1+json": {
       "config": {
        "plotlyServerURL": "https://plot.ly"
       },
       "data": [
        {
         "anchor": "tail",
         "sizemode": "absolute",
         "type": "cone",
         "u": [
          0.5201054215431213,
          -0.35157057642936707,
          -0.8394772410392761,
          0.1820690929889679,
          -0.33448946475982666,
          -0.5778892040252686,
          0.735687255859375,
          0.115451879799366,
          -0.8227226734161377,
          0.6908408999443054,
          -0.7951951622962952,
          -0.1304975301027298,
          -0.9951863884925842,
          -0.1600981056690216,
          -0.9015206694602966,
          -0.01226119790226221,
          -0.22700923681259155,
          0.11058446764945984,
          0.4176497161388397,
          -0.2637457847595215,
          -0.013310200534760952,
          -0.8162648677825928,
          0.5059612393379211,
          0.100083127617836,
          -0.33856478333473206,
          -0.7498151063919067,
          0.673965334892273,
          -0.6279228925704956,
          -0.12758350372314453,
          0.6324642896652222,
          -0.18829959630966187,
          0.5292717814445496,
          0.38851624727249146,
          -0.05734986066818237,
          -0.2648821175098419,
          0.5871167778968811,
          -0.6319630146026611,
          0.39739790558815,
          0.9355685710906982,
          -0.38426926732063293
         ],
         "v": [
          -0.8288815021514893,
          -0.6371696591377258,
          0.5046535730361938,
          0.4819147288799286,
          0.6338964700698853,
          -0.7575235962867737,
          -0.5375537276268005,
          -0.05192073434591293,
          -0.3572554886341095,
          0.6599767208099365,
          -0.08539537340402603,
          0.8377813100814819,
          0.0523228645324707,
          0.8908948302268982,
          0.06603211909532547,
          -0.8394128084182739,
          0.9356648921966553,
          0.3811887204647064,
          -0.9000211358070374,
          -0.7834415435791016,
          -0.634161114692688,
          0.2881545126438141,
          -0.5375174283981323,
          0.9607551097869873,
          -0.2657441198825836,
          -0.318789541721344,
          -0.7377333641052246,
          0.6523873805999756,
          0.004920727573335171,
          0.260091096162796,
          0.18396331369876862,
          -0.3029080629348755,
          0.9141069650650024,
          -0.45626187324523926,
          0.7279738783836365,
          0.7051171660423279,
          0.750840961933136,
          -0.4048944115638733,
          -0.03481634706258774,
          -0.9229453206062317
         ],
         "w": [
          -0.2060239464044571,
          0.6858665347099304,
          -0.20150126516819,
          0.857093334197998,
          0.6973463892936707,
          -0.30364805459976196,
          -0.412068247795105,
          0.9919551610946655,
          0.44214928150177,
          -0.2952450215816498,
          -0.600310206413269,
          0.5301818251609802,
          -0.08286421746015549,
          0.4250587522983551,
          -0.4276683032512665,
          -0.5433559417724609,
          0.27018147706985474,
          0.9178596138954163,
          -0.1246219053864479,
          0.5627232789993286,
          -0.7730863690376282,
          0.5006782412528992,
          0.6745948791503906,
          0.2587139904499054,
          0.902637243270874,
          -0.5797848701477051,
          0.038990579545497894,
          -0.4243861436843872,
          -0.9918156266212463,
          0.7296173572540283,
          -0.9647283554077148,
          0.7925390005111694,
          0.11603261530399323,
          -0.8879955410957336,
          0.6323697566986084,
          0.39762255549430847,
          -0.19199113547801971,
          0.823489785194397,
          0.3514247238636017,
          0.022562507539987564
         ],
         "x": [
          -0.03036212921142578,
          0.44604039192199707,
          1.1147174835205078,
          0.2809445858001709,
          0.950310468673706,
          -0.6836147308349609,
          -1.857933759689331,
          1.1951100826263428,
          -0.4225766658782959,
          -0.3677024841308594,
          1.8549566268920898,
          1.1036062240600586,
          -0.12034010887145996,
          1.5150516033172607,
          1.4221410751342773,
          0.3452131748199463,
          -1.678227186203003,
          1.2595100402832031,
          1.6030492782592773,
          -1.0010275840759277,
          -0.2501258850097656,
          0.4336276054382324,
          -0.787015438079834,
          -1.5207154750823975,
          1.7084627151489258,
          -0.23865365982055664,
          -0.010304450988769531,
          1.2051546573638916,
          1.8178768157958984,
          -1.1996777057647705,
          -1.5457100868225098,
          -0.49147963523864746,
          -0.970414400100708,
          -1.9726738929748535,
          -1.1975665092468262,
          -1.2524569034576416,
          -1.0403532981872559,
          -0.8532288074493408,
          1.8645679950714111,
          -1.675241231918335
         ],
         "y": [
          1.6015586853027344,
          -1.4666476249694824,
          -0.34120774269104004,
          -0.7874658107757568,
          -1.3261537551879883,
          0.44086194038391113,
          -0.602285623550415,
          0.6104931831359863,
          -1.0467309951782227,
          -1.9631648063659668,
          -0.19661879539489746,
          1.1677770614624023,
          -1.9135427474975586,
          1.2315657138824463,
          1.2178220748901367,
          -0.3707585334777832,
          -1.3146839141845703,
          0.927131175994873,
          1.5550282001495361,
          0.14636945724487305,
          -1.015282154083252,
          -0.5500092506408691,
          0.2904813289642334,
          1.2987267971038818,
          0.46578454971313477,
          1.021836519241333,
          1.8284664154052734,
          -0.6921868324279785,
          1.8005702495574951,
          0.6970622539520264,
          -0.06267786026000977,
          -0.6033778190612793,
          1.9708280563354492,
          -0.9962551593780518,
          -1.7458465099334717,
          -1.4032399654388428,
          0.12998628616333008,
          0.9193415641784668,
          -1.9412181377410889,
          0.9003660678863525
         ],
         "z": [
          1.2846333980560303,
          -1.9446704387664795,
          1.3523640632629395,
          0.8993277549743652,
          0.38808250427246094,
          -0.49600768089294434,
          1.9275157451629639,
          -0.3664395809173584,
          -1.0890719890594482,
          1.3002910614013672,
          1.8973438739776611,
          1.2096359729766846,
          -1.6283602714538574,
          -0.7043037414550781,
          0.5442204475402832,
          -1.1199355125427246,
          -1.1393346786499023,
          -0.3766942024230957,
          -1.7428295612335205,
          0.6488146781921387,
          -1.4437732696533203,
          1.5587396621704102,
          1.0416021347045898,
          -0.15615105628967285,
          1.6249172687530518,
          -1.935258150100708,
          1.8627502918243408,
          -0.6301374435424805,
          1.9506640434265137,
          -1.1788592338562012,
          1.2663350105285645,
          1.621772050857544,
          0.3230626583099365,
          1.4863402843475342,
          -1.1298062801361084,
          -1.2629249095916748,
          -1.527338981628418,
          1.1990504264831543,
          -0.7996487617492676,
          0.6254191398620605
         ]
        }
       ],
       "layout": {
        "scene": {
         "aspectratio": {
          "x": 1,
          "y": 1,
          "z": 0.8
         },
         "camera": {
          "eye": {
           "x": 1.2,
           "y": 1.2,
           "z": 0.6
          }
         },
         "xaxis": {
          "nticks": 4,
          "range": [
           -5,
           5
          ]
         },
         "yaxis": {
          "nticks": 4,
          "range": [
           -5,
           5
          ]
         },
         "zaxis": {
          "nticks": 4,
          "range": [
           -5,
           5
          ]
         }
        },
        "template": {
         "data": {
          "bar": [
           {
            "error_x": {
             "color": "#2a3f5f"
            },
            "error_y": {
             "color": "#2a3f5f"
            },
            "marker": {
             "line": {
              "color": "#E5ECF6",
              "width": 0.5
             },
             "pattern": {
              "fillmode": "overlay",
              "size": 10,
              "solidity": 0.2
             }
            },
            "type": "bar"
           }
          ],
          "barpolar": [
           {
            "marker": {
             "line": {
              "color": "#E5ECF6",
              "width": 0.5
             },
             "pattern": {
              "fillmode": "overlay",
              "size": 10,
              "solidity": 0.2
             }
            },
            "type": "barpolar"
           }
          ],
          "carpet": [
           {
            "aaxis": {
             "endlinecolor": "#2a3f5f",
             "gridcolor": "white",
             "linecolor": "white",
             "minorgridcolor": "white",
             "startlinecolor": "#2a3f5f"
            },
            "baxis": {
             "endlinecolor": "#2a3f5f",
             "gridcolor": "white",
             "linecolor": "white",
             "minorgridcolor": "white",
             "startlinecolor": "#2a3f5f"
            },
            "type": "carpet"
           }
          ],
          "choropleth": [
           {
            "colorbar": {
             "outlinewidth": 0,
             "ticks": ""
            },
            "type": "choropleth"
           }
          ],
          "contour": [
           {
            "colorbar": {
             "outlinewidth": 0,
             "ticks": ""
            },
            "colorscale": [
             [
              0,
              "#0d0887"
             ],
             [
              0.1111111111111111,
              "#46039f"
             ],
             [
              0.2222222222222222,
              "#7201a8"
             ],
             [
              0.3333333333333333,
              "#9c179e"
             ],
             [
              0.4444444444444444,
              "#bd3786"
             ],
             [
              0.5555555555555556,
              "#d8576b"
             ],
             [
              0.6666666666666666,
              "#ed7953"
             ],
             [
              0.7777777777777778,
              "#fb9f3a"
             ],
             [
              0.8888888888888888,
              "#fdca26"
             ],
             [
              1,
              "#f0f921"
             ]
            ],
            "type": "contour"
           }
          ],
          "contourcarpet": [
           {
            "colorbar": {
             "outlinewidth": 0,
             "ticks": ""
            },
            "type": "contourcarpet"
           }
          ],
          "heatmap": [
           {
            "colorbar": {
             "outlinewidth": 0,
             "ticks": ""
            },
            "colorscale": [
             [
              0,
              "#0d0887"
             ],
             [
              0.1111111111111111,
              "#46039f"
             ],
             [
              0.2222222222222222,
              "#7201a8"
             ],
             [
              0.3333333333333333,
              "#9c179e"
             ],
             [
              0.4444444444444444,
              "#bd3786"
             ],
             [
              0.5555555555555556,
              "#d8576b"
             ],
             [
              0.6666666666666666,
              "#ed7953"
             ],
             [
              0.7777777777777778,
              "#fb9f3a"
             ],
             [
              0.8888888888888888,
              "#fdca26"
             ],
             [
              1,
              "#f0f921"
             ]
            ],
            "type": "heatmap"
           }
          ],
          "heatmapgl": [
           {
            "colorbar": {
             "outlinewidth": 0,
             "ticks": ""
            },
            "colorscale": [
             [
              0,
              "#0d0887"
             ],
             [
              0.1111111111111111,
              "#46039f"
             ],
             [
              0.2222222222222222,
              "#7201a8"
             ],
             [
              0.3333333333333333,
              "#9c179e"
             ],
             [
              0.4444444444444444,
              "#bd3786"
             ],
             [
              0.5555555555555556,
              "#d8576b"
             ],
             [
              0.6666666666666666,
              "#ed7953"
             ],
             [
              0.7777777777777778,
              "#fb9f3a"
             ],
             [
              0.8888888888888888,
              "#fdca26"
             ],
             [
              1,
              "#f0f921"
             ]
            ],
            "type": "heatmapgl"
           }
          ],
          "histogram": [
           {
            "marker": {
             "pattern": {
              "fillmode": "overlay",
              "size": 10,
              "solidity": 0.2
             }
            },
            "type": "histogram"
           }
          ],
          "histogram2d": [
           {
            "colorbar": {
             "outlinewidth": 0,
             "ticks": ""
            },
            "colorscale": [
             [
              0,
              "#0d0887"
             ],
             [
              0.1111111111111111,
              "#46039f"
             ],
             [
              0.2222222222222222,
              "#7201a8"
             ],
             [
              0.3333333333333333,
              "#9c179e"
             ],
             [
              0.4444444444444444,
              "#bd3786"
             ],
             [
              0.5555555555555556,
              "#d8576b"
             ],
             [
              0.6666666666666666,
              "#ed7953"
             ],
             [
              0.7777777777777778,
              "#fb9f3a"
             ],
             [
              0.8888888888888888,
              "#fdca26"
             ],
             [
              1,
              "#f0f921"
             ]
            ],
            "type": "histogram2d"
           }
          ],
          "histogram2dcontour": [
           {
            "colorbar": {
             "outlinewidth": 0,
             "ticks": ""
            },
            "colorscale": [
             [
              0,
              "#0d0887"
             ],
             [
              0.1111111111111111,
              "#46039f"
             ],
             [
              0.2222222222222222,
              "#7201a8"
             ],
             [
              0.3333333333333333,
              "#9c179e"
             ],
             [
              0.4444444444444444,
              "#bd3786"
             ],
             [
              0.5555555555555556,
              "#d8576b"
             ],
             [
              0.6666666666666666,
              "#ed7953"
             ],
             [
              0.7777777777777778,
              "#fb9f3a"
             ],
             [
              0.8888888888888888,
              "#fdca26"
             ],
             [
              1,
              "#f0f921"
             ]
            ],
            "type": "histogram2dcontour"
           }
          ],
          "mesh3d": [
           {
            "colorbar": {
             "outlinewidth": 0,
             "ticks": ""
            },
            "type": "mesh3d"
           }
          ],
          "parcoords": [
           {
            "line": {
             "colorbar": {
              "outlinewidth": 0,
              "ticks": ""
             }
            },
            "type": "parcoords"
           }
          ],
          "pie": [
           {
            "automargin": true,
            "type": "pie"
           }
          ],
          "scatter": [
           {
            "fillpattern": {
             "fillmode": "overlay",
             "size": 10,
             "solidity": 0.2
            },
            "type": "scatter"
           }
          ],
          "scatter3d": [
           {
            "line": {
             "colorbar": {
              "outlinewidth": 0,
              "ticks": ""
             }
            },
            "marker": {
             "colorbar": {
              "outlinewidth": 0,
              "ticks": ""
             }
            },
            "type": "scatter3d"
           }
          ],
          "scattercarpet": [
           {
            "marker": {
             "colorbar": {
              "outlinewidth": 0,
              "ticks": ""
             }
            },
            "type": "scattercarpet"
           }
          ],
          "scattergeo": [
           {
            "marker": {
             "colorbar": {
              "outlinewidth": 0,
              "ticks": ""
             }
            },
            "type": "scattergeo"
           }
          ],
          "scattergl": [
           {
            "marker": {
             "colorbar": {
              "outlinewidth": 0,
              "ticks": ""
             }
            },
            "type": "scattergl"
           }
          ],
          "scattermapbox": [
           {
            "marker": {
             "colorbar": {
              "outlinewidth": 0,
              "ticks": ""
             }
            },
            "type": "scattermapbox"
           }
          ],
          "scatterpolar": [
           {
            "marker": {
             "colorbar": {
              "outlinewidth": 0,
              "ticks": ""
             }
            },
            "type": "scatterpolar"
           }
          ],
          "scatterpolargl": [
           {
            "marker": {
             "colorbar": {
              "outlinewidth": 0,
              "ticks": ""
             }
            },
            "type": "scatterpolargl"
           }
          ],
          "scatterternary": [
           {
            "marker": {
             "colorbar": {
              "outlinewidth": 0,
              "ticks": ""
             }
            },
            "type": "scatterternary"
           }
          ],
          "surface": [
           {
            "colorbar": {
             "outlinewidth": 0,
             "ticks": ""
            },
            "colorscale": [
             [
              0,
              "#0d0887"
             ],
             [
              0.1111111111111111,
              "#46039f"
             ],
             [
              0.2222222222222222,
              "#7201a8"
             ],
             [
              0.3333333333333333,
              "#9c179e"
             ],
             [
              0.4444444444444444,
              "#bd3786"
             ],
             [
              0.5555555555555556,
              "#d8576b"
             ],
             [
              0.6666666666666666,
              "#ed7953"
             ],
             [
              0.7777777777777778,
              "#fb9f3a"
             ],
             [
              0.8888888888888888,
              "#fdca26"
             ],
             [
              1,
              "#f0f921"
             ]
            ],
            "type": "surface"
           }
          ],
          "table": [
           {
            "cells": {
             "fill": {
              "color": "#EBF0F8"
             },
             "line": {
              "color": "white"
             }
            },
            "header": {
             "fill": {
              "color": "#C8D4E3"
             },
             "line": {
              "color": "white"
             }
            },
            "type": "table"
           }
          ]
         },
         "layout": {
          "annotationdefaults": {
           "arrowcolor": "#2a3f5f",
           "arrowhead": 0,
           "arrowwidth": 1
          },
          "autotypenumbers": "strict",
          "coloraxis": {
           "colorbar": {
            "outlinewidth": 0,
            "ticks": ""
           }
          },
          "colorscale": {
           "diverging": [
            [
             0,
             "#8e0152"
            ],
            [
             0.1,
             "#c51b7d"
            ],
            [
             0.2,
             "#de77ae"
            ],
            [
             0.3,
             "#f1b6da"
            ],
            [
             0.4,
             "#fde0ef"
            ],
            [
             0.5,
             "#f7f7f7"
            ],
            [
             0.6,
             "#e6f5d0"
            ],
            [
             0.7,
             "#b8e186"
            ],
            [
             0.8,
             "#7fbc41"
            ],
            [
             0.9,
             "#4d9221"
            ],
            [
             1,
             "#276419"
            ]
           ],
           "sequential": [
            [
             0,
             "#0d0887"
            ],
            [
             0.1111111111111111,
             "#46039f"
            ],
            [
             0.2222222222222222,
             "#7201a8"
            ],
            [
             0.3333333333333333,
             "#9c179e"
            ],
            [
             0.4444444444444444,
             "#bd3786"
            ],
            [
             0.5555555555555556,
             "#d8576b"
            ],
            [
             0.6666666666666666,
             "#ed7953"
            ],
            [
             0.7777777777777778,
             "#fb9f3a"
            ],
            [
             0.8888888888888888,
             "#fdca26"
            ],
            [
             1,
             "#f0f921"
            ]
           ],
           "sequentialminus": [
            [
             0,
             "#0d0887"
            ],
            [
             0.1111111111111111,
             "#46039f"
            ],
            [
             0.2222222222222222,
             "#7201a8"
            ],
            [
             0.3333333333333333,
             "#9c179e"
            ],
            [
             0.4444444444444444,
             "#bd3786"
            ],
            [
             0.5555555555555556,
             "#d8576b"
            ],
            [
             0.6666666666666666,
             "#ed7953"
            ],
            [
             0.7777777777777778,
             "#fb9f3a"
            ],
            [
             0.8888888888888888,
             "#fdca26"
            ],
            [
             1,
             "#f0f921"
            ]
           ]
          },
          "colorway": [
           "#636efa",
           "#EF553B",
           "#00cc96",
           "#ab63fa",
           "#FFA15A",
           "#19d3f3",
           "#FF6692",
           "#B6E880",
           "#FF97FF",
           "#FECB52"
          ],
          "font": {
           "color": "#2a3f5f"
          },
          "geo": {
           "bgcolor": "white",
           "lakecolor": "white",
           "landcolor": "#E5ECF6",
           "showlakes": true,
           "showland": true,
           "subunitcolor": "white"
          },
          "hoverlabel": {
           "align": "left"
          },
          "hovermode": "closest",
          "mapbox": {
           "style": "light"
          },
          "paper_bgcolor": "white",
          "plot_bgcolor": "#E5ECF6",
          "polar": {
           "angularaxis": {
            "gridcolor": "white",
            "linecolor": "white",
            "ticks": ""
           },
           "bgcolor": "#E5ECF6",
           "radialaxis": {
            "gridcolor": "white",
            "linecolor": "white",
            "ticks": ""
           }
          },
          "scene": {
           "xaxis": {
            "backgroundcolor": "#E5ECF6",
            "gridcolor": "white",
            "gridwidth": 2,
            "linecolor": "white",
            "showbackground": true,
            "ticks": "",
            "zerolinecolor": "white"
           },
           "yaxis": {
            "backgroundcolor": "#E5ECF6",
            "gridcolor": "white",
            "gridwidth": 2,
            "linecolor": "white",
            "showbackground": true,
            "ticks": "",
            "zerolinecolor": "white"
           },
           "zaxis": {
            "backgroundcolor": "#E5ECF6",
            "gridcolor": "white",
            "gridwidth": 2,
            "linecolor": "white",
            "showbackground": true,
            "ticks": "",
            "zerolinecolor": "white"
           }
          },
          "shapedefaults": {
           "line": {
            "color": "#2a3f5f"
           }
          },
          "ternary": {
           "aaxis": {
            "gridcolor": "white",
            "linecolor": "white",
            "ticks": ""
           },
           "baxis": {
            "gridcolor": "white",
            "linecolor": "white",
            "ticks": ""
           },
           "bgcolor": "#E5ECF6",
           "caxis": {
            "gridcolor": "white",
            "linecolor": "white",
            "ticks": ""
           }
          },
          "title": {
           "x": 0.05
          },
          "xaxis": {
           "automargin": true,
           "gridcolor": "white",
           "linecolor": "white",
           "ticks": "",
           "title": {
            "standoff": 15
           },
           "zerolinecolor": "white",
           "zerolinewidth": 2
          },
          "yaxis": {
           "automargin": true,
           "gridcolor": "white",
           "linecolor": "white",
           "ticks": "",
           "title": {
            "standoff": 15
           },
           "zerolinecolor": "white",
           "zerolinewidth": 2
          }
         }
        }
       }
      }
     },
     "metadata": {},
     "output_type": "display_data"
    }
   ],
   "source": [
    "def show_cordinte(data_for_fig):\n",
    "    return go.Figure(data=data_for_fig).update_layout(\n",
    "        scene=dict(\n",
    "            aspectratio=dict(x=1, y=1, z=0.8),\n",
    "            camera_eye=dict(x=1.2, y=1.2, z=0.6),\n",
    "            xaxis=dict(\n",
    "                nticks=4,\n",
    "                range=[-5, 5],\n",
    "            ),\n",
    "            yaxis=dict(\n",
    "                nticks=4,\n",
    "                range=[-5, 5],\n",
    "            ),\n",
    "            zaxis=dict(\n",
    "                nticks=4,\n",
    "                range=[-5, 5],\n",
    "            ),\n",
    "        )\n",
    "    )"
   ]
  }
 ],
 "metadata": {
  "kernelspec": {
   "display_name": "neta-venv",
   "language": "python",
   "name": "python3"
  },
  "language_info": {
   "codemirror_mode": {
    "name": "ipython",
    "version": 3
   },
   "file_extension": ".py",
   "mimetype": "text/x-python",
   "name": "python",
   "nbconvert_exporter": "python",
   "pygments_lexer": "ipython3",
   "version": "3.10.11"
  },
  "orig_nbformat": 4
 },
 "nbformat": 4,
 "nbformat_minor": 2
}
