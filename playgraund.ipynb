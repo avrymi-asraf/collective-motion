{
 "cells": [
  {
   "cell_type": "code",
   "execution_count": 1,
   "metadata": {},
   "outputs": [],
   "source": [
    "from tools import *"
   ]
  },
  {
   "cell_type": "code",
   "execution_count": 30,
   "metadata": {},
   "outputs": [],
   "source": [
    "data = torch.load(\"dataset/60/1.pt\")"
   ]
  },
  {
   "cell_type": "code",
   "execution_count": null,
   "metadata": {},
   "outputs": [],
   "source": [
    "device = 'cuda' if torch.cuda.is_available() else 'cpu'"
   ]
  },
  {
   "cell_type": "code",
   "execution_count": null,
   "metadata": {},
   "outputs": [],
   "source": [
    "from math import ceil\n",
    "\n",
    "model = CollectivMotoinModel(optim.Adam, nn.CrossEntropyLoss, lr=0.01).to(device)\n",
    "epoches = 10\n",
    "batch_size = 64\n",
    "run_data = pd.DataFrame(\n",
    "    {\"ephoc\": 0.0, \"batch\": 0.0, \"loss\": 0.0},\n",
    "    index=range(epoches * ceil(len(train_data) / batch_size)),"
   ]
  },
  {
   "cell_type": "code",
   "execution_count": null,
   "metadata": {},
   "outputs": [],
   "source": [
    "for epoch in range(epoches):\n",
    "    train_loader = data.DataLoader(train_data, batch_size=batch_size, shuffle=True)\n",
    "    for i, (x, y) in enumerate(train_loader):\n",
    "        x = x.to(device)\n",
    "        y = y.to(device)\n",
    "        y_pred = model(x)\n",
    "        loss = criterion(y_pred, y)\n",
    "        optimizer.zero_grad()\n",
    "        loss.backward()\n",
    "        optimizer.step()\n",
    "        if i % 100 == 0:\n",
    "            print(f\"epoch {epoch}, step {i}, loss {loss.item():.4f}\")"
   ]
  },
  {
   "cell_type": "code",
   "execution_count": null,
   "metadata": {},
   "outputs": [],
   "source": [
    "class CollectivMotoinModel(nn.Module):\n",
    "    \"\"\"collective motion model predict the next location of the agents\"\"\"\n",
    "\n",
    "    def __init__(\n",
    "        self,\n",
    "        optimizer: OptimazerType,\n",
    "        loss_func: LossType,\n",
    "        lr: float = 0.001,\n",
    "        num_neighbors: int = 7,\n",
    "    ):\n",
    "        super().__init__()\n",
    "        self.num_neighbors = num_neighbors\n",
    "        self.model = nn.Sequential(\n",
    "            nn.Linear(4 * (self.num_neighbors + 1), (self.num_neighbors + 1) * 8),\n",
    "            nn.ReLU(),\n",
    "            nn.Linear((self.num_neighbors + 1) * 8, 2 * (self.num_neighbors + 1)),\n",
    "            nn.ReLU(),\n",
    "            nn.Linear(2 * (self.num_neighbors + 1), 2),\n",
    "        )\n",
    "        self.optimizer = optimizer(self.parameters(), lr=lr)\n",
    "        self.loss_func = loss_func()\n",
    "\n",
    "    def forward(self, x: TensorType) -> TensorType:\n",
    "        \"\"\"predict the next location of the agents\n",
    "\n",
    "        Args:\n",
    "            x (TensorType): tensor (N, 4+4*m) of the current location, speed and volicity of the agents and relative location of the neighbors, speed and volicity\n",
    "\n",
    "        Returns:\n",
    "            TensorType: new location of the agents, given by x,y\n",
    "        \"\"\"\n",
    "        return self.model(x)"
   ]
  }
 ],
 "metadata": {
  "kernelspec": {
   "display_name": "iml-env",
   "language": "python",
   "name": "python3"
  },
  "language_info": {
   "codemirror_mode": {
    "name": "ipython",
    "version": 3
   },
   "file_extension": ".py",
   "mimetype": "text/x-python",
   "name": "python",
   "nbconvert_exporter": "python",
   "pygments_lexer": "ipython3",
   "version": "3.10.11"
  },
  "orig_nbformat": 4
 },
 "nbformat": 4,
 "nbformat_minor": 2
}
